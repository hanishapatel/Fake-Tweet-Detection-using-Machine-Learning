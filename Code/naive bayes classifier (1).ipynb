{
 "cells": [
  {
   "cell_type": "code",
   "execution_count": 1,
   "metadata": {},
   "outputs": [],
   "source": [
    "import sklearn.datasets as skd\n",
    "import pandas as pd\n",
    "import numpy as np\n",
    "from sklearn.model_selection import train_test_split\n",
    "from sklearn.pipeline import Pipeline\n",
    "from sklearn.feature_extraction.text import TfidfVectorizer\n",
    "from sklearn.naive_bayes import MultinomialNB\n",
    "from sklearn import metrics \n",
    "from sklearn.metrics import accuracy_score,confusion_matrix\n",
    "import numpy as np"
   ]
  },
  {
   "cell_type": "code",
   "execution_count": 2,
   "metadata": {},
   "outputs": [
    {
     "data": {
      "text/plain": [
       "0         False\n",
       "1          True\n",
       "2         False\n",
       "3          True\n",
       "4         False\n",
       "          ...  \n",
       "586257    False\n",
       "586258    False\n",
       "586259    False\n",
       "586260    False\n",
       "586261    False\n",
       "Name: verified, Length: 586262, dtype: bool"
      ]
     },
     "execution_count": 2,
     "metadata": {},
     "output_type": "execute_result"
    }
   ],
   "source": [
    "news_train = pd.read_csv('2020-03-30 Coronavirus Tweets.csv',low_memory=False)\n",
    "x = news_train.drop(columns=['verified'])\n",
    "y = news_train['verified']\n",
    "y"
   ]
  },
  {
   "cell_type": "code",
   "execution_count": 3,
   "metadata": {},
   "outputs": [
    {
     "data": {
      "text/plain": [
       "False    520561\n",
       "True      65701\n",
       "Name: verified, dtype: int64"
      ]
     },
     "execution_count": 3,
     "metadata": {},
     "output_type": "execute_result"
    }
   ],
   "source": [
    "y.describe()\n",
    "news_train.verified.value_counts()"
   ]
  },
  {
   "cell_type": "code",
   "execution_count": 4,
   "metadata": {},
   "outputs": [],
   "source": [
    "x_train,x_test,y_train,y_test = train_test_split(news_train['text'],news_train['verified'],test_size=0.4,random_state=7)\n",
    "text_clf = Pipeline([('vect',TfidfVectorizer()),\n",
    "                    ('clf',MultinomialNB())])"
   ]
  },
  {
   "cell_type": "code",
   "execution_count": 5,
   "metadata": {},
   "outputs": [],
   "source": [
    "text_clf.fit(x_train.apply(lambda x: np.str_(x)),y_train.apply(lambda x: np.str_(x)))\n",
    "predicted = text_clf.predict(x_test.apply(lambda x: np.str_(x)))"
   ]
  },
  {
   "cell_type": "code",
   "execution_count": 14,
   "metadata": {},
   "outputs": [
    {
     "name": "stdout",
     "output_type": "stream",
     "text": [
      "Accuracy: 91.3%\n"
     ]
    },
    {
     "data": {
      "text/plain": [
       "array([[208186,     50],\n",
       "       [ 20354,   5915]], dtype=int64)"
      ]
     },
     "execution_count": 14,
     "metadata": {},
     "output_type": "execute_result"
    }
   ],
   "source": [
    "y_test = y_test.astype('str')\n",
    "score = accuracy_score(y_test,predicted)\n",
    "print(f'Accuracy: {round(score*100,2)}%')\n",
    "confusion_matrix(y_test,predicted)"
   ]
  },
  {
   "cell_type": "code",
   "execution_count": 15,
   "metadata": {},
   "outputs": [
    {
     "name": "stdout",
     "output_type": "stream",
     "text": [
      "              precision    recall  f1-score   support\n",
      "\n",
      "       False       0.91      1.00      0.95    208236\n",
      "        True       0.99      0.23      0.37     26269\n",
      "\n",
      "    accuracy                           0.91    234505\n",
      "   macro avg       0.95      0.61      0.66    234505\n",
      "weighted avg       0.92      0.91      0.89    234505\n",
      "\n"
     ]
    }
   ],
   "source": [
    "from sklearn.metrics import classification_report\n",
    "print(classification_report(y_test,predicted))"
   ]
  },
  {
   "cell_type": "code",
   "execution_count": 7,
   "metadata": {},
   "outputs": [
    {
     "name": "stdout",
     "output_type": "stream",
     "text": [
      "Precision for False: 0.9109390041130655\n",
      "Recall for False: 0.9997598878195894\n",
      "F1 score for False: 0.9532849790281518\n",
      "Accuracy: 0.9129911942176073\n"
     ]
    }
   ],
   "source": [
    "from sklearn.metrics import f1_score, accuracy_score , recall_score , precision_score\n",
    "print(\"Precision for False:\",precision_score(y_test, predicted, pos_label='False'))\n",
    "print(\"Recall for False:\",recall_score(y_test, predicted, pos_label='False'))\n",
    "print(\"F1 score for False:\",f1_score(y_test, predicted, pos_label='False'))\n",
    "print(\"Accuracy:\",accuracy_score(y_test, predicted))"
   ]
  },
  {
   "cell_type": "code",
   "execution_count": 8,
   "metadata": {},
   "outputs": [
    {
     "data": {
      "image/png": "[encoded data removed]",
      "text/plain": [
       "<Figure size 432x288 with 2 Axes>"
      ]
     },
     "metadata": {
      "needs_background": "light"
     },
     "output_type": "display_data"
    }
   ],
   "source": [
    "import matplotlib.pyplot as plt\n",
    "import numpy as np\n",
    "from mlxtend.plotting import plot_confusion_matrix\n",
    "\n",
    "multiclass = np.array(confusion_matrix(y_test,predicted))\n",
    "\n",
    "class_names = ['REAL', 'FAKE']\n",
    "\n",
    "fig, ax = plot_confusion_matrix(conf_mat=multiclass,\n",
    "                                colorbar=True,\n",
    "                                show_absolute=False,\n",
    "                                show_normed=True,\n",
    "                                class_names=class_names)\n",
    "plt.show()"
   ]
  },
  {
   "cell_type": "code",
   "execution_count": 9,
   "metadata": {},
   "outputs": [
    {
     "name": "stdout",
     "output_type": "stream",
     "text": [
      "Cross validation on Accuracy for Multinomial classifier: 91.25930657314811 %\n",
      "Cross validation on Precision for Naive Bayes classifier: 91.96047984473641 %\n",
      "Cross validation on Recall for Naive Bayes classifier: 91.25930657314811 %\n",
      "Cross validation on F1-score for Naive Bayes classifier: 88.69343244785803 %\n"
     ]
    }
   ],
   "source": [
    "from sklearn.model_selection import cross_val_score\n",
    "scores = cross_val_score(text_clf, x_train, y_train, cv=10)\n",
    "print(\"Cross validation on Accuracy for Multinomial classifier:\",(str(np.mean(scores)*100) + ' %'))\n",
    "precision = cross_val_score(text_clf, x_train, y_train,scoring='precision_weighted', cv=10)\n",
    "recall = cross_val_score(text_clf, x_train, y_train,scoring='recall_weighted', cv=10)\n",
    "f1_score = cross_val_score(text_clf, x_train, y_train,scoring='f1_weighted', cv=10)\n",
    "\n",
    "print(\"Cross validation on Precision for Naive Bayes classifier:\",(str(np.mean(precision)*100) + ' %'))\n",
    "print(\"Cross validation on Recall for Naive Bayes classifier:\",(str(np.mean(recall)*100) + ' %'))\n",
    "print(\"Cross validation on F1-score for Naive Bayes classifier:\",(str(np.mean(f1_score)*100) + ' %'))"
   ]
  },
  {
   "cell_type": "code",
   "execution_count": 40,
   "metadata": {},
   "outputs": [
    {
     "name": "stdout",
     "output_type": "stream",
     "text": [
      "['False']\n"
     ]
    }
   ],
   "source": [
    "ans = text_clf.predict([\"Health experts say the risks are very low that COVID-19 will remain on envelopes or packages and infect anyone who handles them. #Mail #COVID19 https://t.co/UmJm9Yt30k\"])\n",
    "print(ans)"
   ]
  },
  {
   "cell_type": "code",
   "execution_count": null,
   "metadata": {},
   "outputs": [],
   "source": []
  }
 ],
 "metadata": {
  "kernelspec": {
   "display_name": "Python 3",
   "language": "python",
   "name": "python3"
  },
  "language_info": {
   "codemirror_mode": {
    "name": "ipython",
    "version": 3
   },
   "file_extension": ".py",
   "mimetype": "text/x-python",
   "name": "python",
   "nbconvert_exporter": "python",
   "pygments_lexer": "ipython3",
   "version": "3.7.3"
  }
 },
 "nbformat": 4,
 "nbformat_minor": 4
}
