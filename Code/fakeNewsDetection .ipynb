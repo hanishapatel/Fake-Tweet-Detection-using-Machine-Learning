{
 "cells": [
  {
   "cell_type": "markdown",
   "metadata": {},
   "source": [
    "#### Importing Libraries### "
   ]
  },
  {
   "cell_type": "code",
   "execution_count": 2,
   "metadata": {},
   "outputs": [],
   "source": [
    "import pandas as pd\n",
    "import numpy as np\n",
    "import seaborn as sns\n",
    "import matplotlib.pyplot as plt\n",
    "from sklearn.model_selection import train_test_split\n",
    "from sklearn.metrics import accuracy_score\n",
    "from sklearn.metrics import classification_report\n",
    "import re\n",
    "import string"
   ]
  },
  {
   "cell_type": "markdown",
   "metadata": {},
   "source": [
    "#### Fetching the dataset "
   ]
  },
  {
   "cell_type": "code",
   "execution_count": 3,
   "metadata": {},
   "outputs": [],
   "source": [
    "data = pd.read_csv('data1.csv')\n",
    "data = data[data['lang'] == 'en']"
   ]
  },
  {
   "cell_type": "code",
   "execution_count": 4,
   "metadata": {},
   "outputs": [
    {
     "data": {
      "text/html": [
       "<div>\n",
       "<style scoped>\n",
       "    .dataframe tbody tr th:only-of-type {\n",
       "        vertical-align: middle;\n",
       "    }\n",
       "\n",
       "    .dataframe tbody tr th {\n",
       "        vertical-align: top;\n",
       "    }\n",
       "\n",
       "    .dataframe thead th {\n",
       "        text-align: right;\n",
       "    }\n",
       "</style>\n",
       "<table border=\"1\" class=\"dataframe\">\n",
       "  <thead>\n",
       "    <tr style=\"text-align: right;\">\n",
       "      <th></th>\n",
       "      <th>status_id</th>\n",
       "      <th>user_id</th>\n",
       "      <th>created_at</th>\n",
       "      <th>screen_name</th>\n",
       "      <th>text</th>\n",
       "      <th>source</th>\n",
       "      <th>reply_to_status_id</th>\n",
       "      <th>reply_to_user_id</th>\n",
       "      <th>reply_to_screen_name</th>\n",
       "      <th>is_quote</th>\n",
       "      <th>...</th>\n",
       "      <th>retweet_count</th>\n",
       "      <th>country_code</th>\n",
       "      <th>place_full_name</th>\n",
       "      <th>place_type</th>\n",
       "      <th>followers_count</th>\n",
       "      <th>friends_count</th>\n",
       "      <th>account_lang</th>\n",
       "      <th>account_created_at</th>\n",
       "      <th>verified</th>\n",
       "      <th>lang</th>\n",
       "    </tr>\n",
       "  </thead>\n",
       "  <tbody>\n",
       "    <tr>\n",
       "      <th>2</th>\n",
       "      <td>1244051645975191557</td>\n",
       "      <td>80943559</td>\n",
       "      <td>2020-03-29T00:00:00Z</td>\n",
       "      <td>rlieving</td>\n",
       "      <td>“People are just storing up. They are staying ...</td>\n",
       "      <td>TweetDeck</td>\n",
       "      <td>NaN</td>\n",
       "      <td>NaN</td>\n",
       "      <td>NaN</td>\n",
       "      <td>False</td>\n",
       "      <td>...</td>\n",
       "      <td>0</td>\n",
       "      <td>NaN</td>\n",
       "      <td>NaN</td>\n",
       "      <td>NaN</td>\n",
       "      <td>136</td>\n",
       "      <td>457</td>\n",
       "      <td>NaN</td>\n",
       "      <td>2009-10-08T21:06:08Z</td>\n",
       "      <td>False</td>\n",
       "      <td>en</td>\n",
       "    </tr>\n",
       "    <tr>\n",
       "      <th>6</th>\n",
       "      <td>1244051646935633921</td>\n",
       "      <td>27922157</td>\n",
       "      <td>2020-03-29T00:00:00Z</td>\n",
       "      <td>AmerMedicalAssn</td>\n",
       "      <td>.@PatriceHarrisMD spoke with @YahooFinance abo...</td>\n",
       "      <td>Sprinklr</td>\n",
       "      <td>NaN</td>\n",
       "      <td>NaN</td>\n",
       "      <td>NaN</td>\n",
       "      <td>False</td>\n",
       "      <td>...</td>\n",
       "      <td>3</td>\n",
       "      <td>NaN</td>\n",
       "      <td>NaN</td>\n",
       "      <td>NaN</td>\n",
       "      <td>714952</td>\n",
       "      <td>6877</td>\n",
       "      <td>NaN</td>\n",
       "      <td>2009-03-31T17:50:31Z</td>\n",
       "      <td>True</td>\n",
       "      <td>en</td>\n",
       "    </tr>\n",
       "    <tr>\n",
       "      <th>7</th>\n",
       "      <td>1244051645971025920</td>\n",
       "      <td>1115874631</td>\n",
       "      <td>2020-03-29T00:00:00Z</td>\n",
       "      <td>CGTNOfficial</td>\n",
       "      <td>First medical team aiding #Wuhan in fight agai...</td>\n",
       "      <td>Twitter Media Studio</td>\n",
       "      <td>NaN</td>\n",
       "      <td>NaN</td>\n",
       "      <td>NaN</td>\n",
       "      <td>False</td>\n",
       "      <td>...</td>\n",
       "      <td>18</td>\n",
       "      <td>NaN</td>\n",
       "      <td>NaN</td>\n",
       "      <td>NaN</td>\n",
       "      <td>14040072</td>\n",
       "      <td>55</td>\n",
       "      <td>NaN</td>\n",
       "      <td>2013-01-24T03:18:59Z</td>\n",
       "      <td>True</td>\n",
       "      <td>en</td>\n",
       "    </tr>\n",
       "    <tr>\n",
       "      <th>9</th>\n",
       "      <td>1244051647149543426</td>\n",
       "      <td>108845320</td>\n",
       "      <td>2020-03-29T00:00:00Z</td>\n",
       "      <td>OnTopMag</td>\n",
       "      <td>.@KathyGriffin: @realDonaldTrump Is 'Lying' Ab...</td>\n",
       "      <td>Twitter for Advertisers</td>\n",
       "      <td>NaN</td>\n",
       "      <td>NaN</td>\n",
       "      <td>NaN</td>\n",
       "      <td>False</td>\n",
       "      <td>...</td>\n",
       "      <td>1</td>\n",
       "      <td>NaN</td>\n",
       "      <td>NaN</td>\n",
       "      <td>NaN</td>\n",
       "      <td>5042</td>\n",
       "      <td>5389</td>\n",
       "      <td>NaN</td>\n",
       "      <td>2010-01-27T05:23:15Z</td>\n",
       "      <td>False</td>\n",
       "      <td>en</td>\n",
       "    </tr>\n",
       "    <tr>\n",
       "      <th>14</th>\n",
       "      <td>1244051645102579712</td>\n",
       "      <td>17673635</td>\n",
       "      <td>2020-03-29T00:00:00Z</td>\n",
       "      <td>livemint</td>\n",
       "      <td>#CoronaUpdate | Johns Hopkins University has s...</td>\n",
       "      <td>TweetDeck</td>\n",
       "      <td>NaN</td>\n",
       "      <td>NaN</td>\n",
       "      <td>NaN</td>\n",
       "      <td>False</td>\n",
       "      <td>...</td>\n",
       "      <td>2</td>\n",
       "      <td>NaN</td>\n",
       "      <td>NaN</td>\n",
       "      <td>NaN</td>\n",
       "      <td>1862858</td>\n",
       "      <td>127</td>\n",
       "      <td>NaN</td>\n",
       "      <td>2008-11-27T09:07:38Z</td>\n",
       "      <td>True</td>\n",
       "      <td>en</td>\n",
       "    </tr>\n",
       "  </tbody>\n",
       "</table>\n",
       "<p>5 rows × 22 columns</p>\n",
       "</div>"
      ],
      "text/plain": [
       "              status_id     user_id            created_at      screen_name  \\\n",
       "2   1244051645975191557    80943559  2020-03-29T00:00:00Z         rlieving   \n",
       "6   1244051646935633921    27922157  2020-03-29T00:00:00Z  AmerMedicalAssn   \n",
       "7   1244051645971025920  1115874631  2020-03-29T00:00:00Z     CGTNOfficial   \n",
       "9   1244051647149543426   108845320  2020-03-29T00:00:00Z         OnTopMag   \n",
       "14  1244051645102579712    17673635  2020-03-29T00:00:00Z         livemint   \n",
       "\n",
       "                                                 text  \\\n",
       "2   “People are just storing up. They are staying ...   \n",
       "6   .@PatriceHarrisMD spoke with @YahooFinance abo...   \n",
       "7   First medical team aiding #Wuhan in fight agai...   \n",
       "9   .@KathyGriffin: @realDonaldTrump Is 'Lying' Ab...   \n",
       "14  #CoronaUpdate | Johns Hopkins University has s...   \n",
       "\n",
       "                     source  reply_to_status_id  reply_to_user_id  \\\n",
       "2                 TweetDeck                 NaN               NaN   \n",
       "6                  Sprinklr                 NaN               NaN   \n",
       "7      Twitter Media Studio                 NaN               NaN   \n",
       "9   Twitter for Advertisers                 NaN               NaN   \n",
       "14                TweetDeck                 NaN               NaN   \n",
       "\n",
       "   reply_to_screen_name  is_quote  ...  retweet_count  country_code  \\\n",
       "2                   NaN     False  ...              0           NaN   \n",
       "6                   NaN     False  ...              3           NaN   \n",
       "7                   NaN     False  ...             18           NaN   \n",
       "9                   NaN     False  ...              1           NaN   \n",
       "14                  NaN     False  ...              2           NaN   \n",
       "\n",
       "    place_full_name place_type followers_count friends_count  account_lang  \\\n",
       "2               NaN        NaN             136           457           NaN   \n",
       "6               NaN        NaN          714952          6877           NaN   \n",
       "7               NaN        NaN        14040072            55           NaN   \n",
       "9               NaN        NaN            5042          5389           NaN   \n",
       "14              NaN        NaN         1862858           127           NaN   \n",
       "\n",
       "      account_created_at  verified lang  \n",
       "2   2009-10-08T21:06:08Z     False   en  \n",
       "6   2009-03-31T17:50:31Z      True   en  \n",
       "7   2013-01-24T03:18:59Z      True   en  \n",
       "9   2010-01-27T05:23:15Z     False   en  \n",
       "14  2008-11-27T09:07:38Z      True   en  \n",
       "\n",
       "[5 rows x 22 columns]"
      ]
     },
     "execution_count": 4,
     "metadata": {},
     "output_type": "execute_result"
    }
   ],
   "source": [
    "data.head(5)"
   ]
  },
  {
   "cell_type": "markdown",
   "metadata": {},
   "source": [
    "#### Total Columns of dataset "
   ]
  },
  {
   "cell_type": "code",
   "execution_count": 5,
   "metadata": {},
   "outputs": [
    {
     "name": "stdout",
     "output_type": "stream",
     "text": [
      "Index(['status_id', 'user_id', 'created_at', 'screen_name', 'text', 'source',\n",
      "       'reply_to_status_id', 'reply_to_user_id', 'reply_to_screen_name',\n",
      "       'is_quote', 'is_retweet', 'favourites_count', 'retweet_count',\n",
      "       'country_code', 'place_full_name', 'place_type', 'followers_count',\n",
      "       'friends_count', 'account_lang', 'account_created_at', 'verified',\n",
      "       'lang'],\n",
      "      dtype='object')\n",
      "(313036, 22)\n"
     ]
    }
   ],
   "source": [
    "print(data.columns)\n",
    "print(data.shape)"
   ]
  },
  {
   "cell_type": "code",
   "execution_count": 6,
   "metadata": {},
   "outputs": [],
   "source": [
    "data.drop([\"status_id\",\"user_id\",\"created_at\",\"source\",\"reply_to_status_id\",\"reply_to_user_id\",\"reply_to_screen_name\",\"is_quote\",\"country_code\",\"place_full_name\",\"place_type\",\"account_lang\",\"account_created_at\"],axis = 1,inplace = True)"
   ]
  },
  {
   "cell_type": "markdown",
   "metadata": {},
   "source": [
    "#### Final Dataset Taken into consideration for the model "
   ]
  },
  {
   "cell_type": "code",
   "execution_count": 7,
   "metadata": {},
   "outputs": [
    {
     "data": {
      "text/html": [
       "<div>\n",
       "<style scoped>\n",
       "    .dataframe tbody tr th:only-of-type {\n",
       "        vertical-align: middle;\n",
       "    }\n",
       "\n",
       "    .dataframe tbody tr th {\n",
       "        vertical-align: top;\n",
       "    }\n",
       "\n",
       "    .dataframe thead th {\n",
       "        text-align: right;\n",
       "    }\n",
       "</style>\n",
       "<table border=\"1\" class=\"dataframe\">\n",
       "  <thead>\n",
       "    <tr style=\"text-align: right;\">\n",
       "      <th></th>\n",
       "      <th>screen_name</th>\n",
       "      <th>text</th>\n",
       "      <th>is_retweet</th>\n",
       "      <th>favourites_count</th>\n",
       "      <th>retweet_count</th>\n",
       "      <th>followers_count</th>\n",
       "      <th>friends_count</th>\n",
       "      <th>verified</th>\n",
       "      <th>lang</th>\n",
       "    </tr>\n",
       "  </thead>\n",
       "  <tbody>\n",
       "    <tr>\n",
       "      <th>2</th>\n",
       "      <td>rlieving</td>\n",
       "      <td>“People are just storing up. They are staying ...</td>\n",
       "      <td>False</td>\n",
       "      <td>604</td>\n",
       "      <td>0</td>\n",
       "      <td>136</td>\n",
       "      <td>457</td>\n",
       "      <td>False</td>\n",
       "      <td>en</td>\n",
       "    </tr>\n",
       "    <tr>\n",
       "      <th>6</th>\n",
       "      <td>AmerMedicalAssn</td>\n",
       "      <td>.@PatriceHarrisMD spoke with @YahooFinance abo...</td>\n",
       "      <td>False</td>\n",
       "      <td>2894</td>\n",
       "      <td>3</td>\n",
       "      <td>714952</td>\n",
       "      <td>6877</td>\n",
       "      <td>True</td>\n",
       "      <td>en</td>\n",
       "    </tr>\n",
       "    <tr>\n",
       "      <th>7</th>\n",
       "      <td>CGTNOfficial</td>\n",
       "      <td>First medical team aiding #Wuhan in fight agai...</td>\n",
       "      <td>False</td>\n",
       "      <td>65</td>\n",
       "      <td>18</td>\n",
       "      <td>14040072</td>\n",
       "      <td>55</td>\n",
       "      <td>True</td>\n",
       "      <td>en</td>\n",
       "    </tr>\n",
       "    <tr>\n",
       "      <th>9</th>\n",
       "      <td>OnTopMag</td>\n",
       "      <td>.@KathyGriffin: @realDonaldTrump Is 'Lying' Ab...</td>\n",
       "      <td>False</td>\n",
       "      <td>2658</td>\n",
       "      <td>1</td>\n",
       "      <td>5042</td>\n",
       "      <td>5389</td>\n",
       "      <td>False</td>\n",
       "      <td>en</td>\n",
       "    </tr>\n",
       "    <tr>\n",
       "      <th>14</th>\n",
       "      <td>livemint</td>\n",
       "      <td>#CoronaUpdate | Johns Hopkins University has s...</td>\n",
       "      <td>False</td>\n",
       "      <td>474</td>\n",
       "      <td>2</td>\n",
       "      <td>1862858</td>\n",
       "      <td>127</td>\n",
       "      <td>True</td>\n",
       "      <td>en</td>\n",
       "    </tr>\n",
       "    <tr>\n",
       "      <th>17</th>\n",
       "      <td>ABSCBNNews</td>\n",
       "      <td>Singapore donates 40,000 test kits to the Phil...</td>\n",
       "      <td>False</td>\n",
       "      <td>1073</td>\n",
       "      <td>840</td>\n",
       "      <td>6767144</td>\n",
       "      <td>1075</td>\n",
       "      <td>True</td>\n",
       "      <td>en</td>\n",
       "    </tr>\n",
       "    <tr>\n",
       "      <th>19</th>\n",
       "      <td>RadioNLNews</td>\n",
       "      <td>It's been a remarkable week for bold policy an...</td>\n",
       "      <td>False</td>\n",
       "      <td>498</td>\n",
       "      <td>0</td>\n",
       "      <td>6929</td>\n",
       "      <td>2137</td>\n",
       "      <td>False</td>\n",
       "      <td>en</td>\n",
       "    </tr>\n",
       "    <tr>\n",
       "      <th>26</th>\n",
       "      <td>SputnikInt</td>\n",
       "      <td>#Pentagon activates special protocols to fight...</td>\n",
       "      <td>False</td>\n",
       "      <td>17</td>\n",
       "      <td>13</td>\n",
       "      <td>317134</td>\n",
       "      <td>288</td>\n",
       "      <td>True</td>\n",
       "      <td>en</td>\n",
       "    </tr>\n",
       "    <tr>\n",
       "      <th>28</th>\n",
       "      <td>RT_com</td>\n",
       "      <td>Lockdowns, drones: Will things ever go back to...</td>\n",
       "      <td>False</td>\n",
       "      <td>943</td>\n",
       "      <td>58</td>\n",
       "      <td>3073688</td>\n",
       "      <td>640</td>\n",
       "      <td>True</td>\n",
       "      <td>en</td>\n",
       "    </tr>\n",
       "    <tr>\n",
       "      <th>30</th>\n",
       "      <td>AACNme</td>\n",
       "      <td>Does the #COVID19 pandemic have you feeling ou...</td>\n",
       "      <td>False</td>\n",
       "      <td>2830</td>\n",
       "      <td>4</td>\n",
       "      <td>24142</td>\n",
       "      <td>2053</td>\n",
       "      <td>False</td>\n",
       "      <td>en</td>\n",
       "    </tr>\n",
       "  </tbody>\n",
       "</table>\n",
       "</div>"
      ],
      "text/plain": [
       "        screen_name                                               text  \\\n",
       "2          rlieving  “People are just storing up. They are staying ...   \n",
       "6   AmerMedicalAssn  .@PatriceHarrisMD spoke with @YahooFinance abo...   \n",
       "7      CGTNOfficial  First medical team aiding #Wuhan in fight agai...   \n",
       "9          OnTopMag  .@KathyGriffin: @realDonaldTrump Is 'Lying' Ab...   \n",
       "14         livemint  #CoronaUpdate | Johns Hopkins University has s...   \n",
       "17       ABSCBNNews  Singapore donates 40,000 test kits to the Phil...   \n",
       "19      RadioNLNews  It's been a remarkable week for bold policy an...   \n",
       "26       SputnikInt  #Pentagon activates special protocols to fight...   \n",
       "28           RT_com  Lockdowns, drones: Will things ever go back to...   \n",
       "30           AACNme  Does the #COVID19 pandemic have you feeling ou...   \n",
       "\n",
       "    is_retweet  favourites_count  retweet_count  followers_count  \\\n",
       "2        False               604              0              136   \n",
       "6        False              2894              3           714952   \n",
       "7        False                65             18         14040072   \n",
       "9        False              2658              1             5042   \n",
       "14       False               474              2          1862858   \n",
       "17       False              1073            840          6767144   \n",
       "19       False               498              0             6929   \n",
       "26       False                17             13           317134   \n",
       "28       False               943             58          3073688   \n",
       "30       False              2830              4            24142   \n",
       "\n",
       "    friends_count  verified lang  \n",
       "2             457     False   en  \n",
       "6            6877      True   en  \n",
       "7              55      True   en  \n",
       "9            5389     False   en  \n",
       "14            127      True   en  \n",
       "17           1075      True   en  \n",
       "19           2137     False   en  \n",
       "26            288      True   en  \n",
       "28            640      True   en  \n",
       "30           2053     False   en  "
      ]
     },
     "execution_count": 7,
     "metadata": {},
     "output_type": "execute_result"
    }
   ],
   "source": [
    "data.head(10)"
   ]
  },
  {
   "cell_type": "code",
   "execution_count": 8,
   "metadata": {},
   "outputs": [
    {
     "name": "stdout",
     "output_type": "stream",
     "text": [
      "screen_name         0\n",
      "text                0\n",
      "is_retweet          0\n",
      "favourites_count    0\n",
      "retweet_count       0\n",
      "followers_count     0\n",
      "friends_count       0\n",
      "verified            0\n",
      "lang                0\n",
      "dtype: int64\n"
     ]
    }
   ],
   "source": [
    "print(data.isnull().sum())"
   ]
  },
  {
   "cell_type": "markdown",
   "metadata": {},
   "source": [
    "#### Converting True / False to 1/0 "
   ]
  },
  {
   "cell_type": "code",
   "execution_count": 9,
   "metadata": {},
   "outputs": [
    {
     "data": {
      "text/html": [
       "<div>\n",
       "<style scoped>\n",
       "    .dataframe tbody tr th:only-of-type {\n",
       "        vertical-align: middle;\n",
       "    }\n",
       "\n",
       "    .dataframe tbody tr th {\n",
       "        vertical-align: top;\n",
       "    }\n",
       "\n",
       "    .dataframe thead th {\n",
       "        text-align: right;\n",
       "    }\n",
       "</style>\n",
       "<table border=\"1\" class=\"dataframe\">\n",
       "  <thead>\n",
       "    <tr style=\"text-align: right;\">\n",
       "      <th></th>\n",
       "      <th>screen_name</th>\n",
       "      <th>text</th>\n",
       "      <th>is_retweet</th>\n",
       "      <th>favourites_count</th>\n",
       "      <th>retweet_count</th>\n",
       "      <th>followers_count</th>\n",
       "      <th>friends_count</th>\n",
       "      <th>lang</th>\n",
       "      <th>True</th>\n",
       "    </tr>\n",
       "  </thead>\n",
       "  <tbody>\n",
       "    <tr>\n",
       "      <th>2</th>\n",
       "      <td>rlieving</td>\n",
       "      <td>“People are just storing up. They are staying ...</td>\n",
       "      <td>False</td>\n",
       "      <td>604</td>\n",
       "      <td>0</td>\n",
       "      <td>136</td>\n",
       "      <td>457</td>\n",
       "      <td>en</td>\n",
       "      <td>0</td>\n",
       "    </tr>\n",
       "    <tr>\n",
       "      <th>6</th>\n",
       "      <td>AmerMedicalAssn</td>\n",
       "      <td>.@PatriceHarrisMD spoke with @YahooFinance abo...</td>\n",
       "      <td>False</td>\n",
       "      <td>2894</td>\n",
       "      <td>3</td>\n",
       "      <td>714952</td>\n",
       "      <td>6877</td>\n",
       "      <td>en</td>\n",
       "      <td>1</td>\n",
       "    </tr>\n",
       "    <tr>\n",
       "      <th>7</th>\n",
       "      <td>CGTNOfficial</td>\n",
       "      <td>First medical team aiding #Wuhan in fight agai...</td>\n",
       "      <td>False</td>\n",
       "      <td>65</td>\n",
       "      <td>18</td>\n",
       "      <td>14040072</td>\n",
       "      <td>55</td>\n",
       "      <td>en</td>\n",
       "      <td>1</td>\n",
       "    </tr>\n",
       "    <tr>\n",
       "      <th>9</th>\n",
       "      <td>OnTopMag</td>\n",
       "      <td>.@KathyGriffin: @realDonaldTrump Is 'Lying' Ab...</td>\n",
       "      <td>False</td>\n",
       "      <td>2658</td>\n",
       "      <td>1</td>\n",
       "      <td>5042</td>\n",
       "      <td>5389</td>\n",
       "      <td>en</td>\n",
       "      <td>0</td>\n",
       "    </tr>\n",
       "    <tr>\n",
       "      <th>14</th>\n",
       "      <td>livemint</td>\n",
       "      <td>#CoronaUpdate | Johns Hopkins University has s...</td>\n",
       "      <td>False</td>\n",
       "      <td>474</td>\n",
       "      <td>2</td>\n",
       "      <td>1862858</td>\n",
       "      <td>127</td>\n",
       "      <td>en</td>\n",
       "      <td>1</td>\n",
       "    </tr>\n",
       "  </tbody>\n",
       "</table>\n",
       "</div>"
      ],
      "text/plain": [
       "        screen_name                                               text  \\\n",
       "2          rlieving  “People are just storing up. They are staying ...   \n",
       "6   AmerMedicalAssn  .@PatriceHarrisMD spoke with @YahooFinance abo...   \n",
       "7      CGTNOfficial  First medical team aiding #Wuhan in fight agai...   \n",
       "9          OnTopMag  .@KathyGriffin: @realDonaldTrump Is 'Lying' Ab...   \n",
       "14         livemint  #CoronaUpdate | Johns Hopkins University has s...   \n",
       "\n",
       "    is_retweet  favourites_count  retweet_count  followers_count  \\\n",
       "2        False               604              0              136   \n",
       "6        False              2894              3           714952   \n",
       "7        False                65             18         14040072   \n",
       "9        False              2658              1             5042   \n",
       "14       False               474              2          1862858   \n",
       "\n",
       "    friends_count lang  True  \n",
       "2             457   en     0  \n",
       "6            6877   en     1  \n",
       "7              55   en     1  \n",
       "9            5389   en     0  \n",
       "14            127   en     1  "
      ]
     },
     "execution_count": 9,
     "metadata": {},
     "output_type": "execute_result"
    }
   ],
   "source": [
    "val = pd.get_dummies(data['verified'])\n",
    "data = pd.concat((data,val),axis= 1)\n",
    "data.drop(['verified',False],axis=1,inplace=True)\n",
    "data.head(5)"
   ]
  },
  {
   "cell_type": "markdown",
   "metadata": {},
   "source": [
    "#### Fucntion to remove all punctuations marks and links from the text  "
   ]
  },
  {
   "cell_type": "code",
   "execution_count": 10,
   "metadata": {},
   "outputs": [],
   "source": [
    "def wordopt(text):\n",
    "    text = text.lower()\n",
    "    text = re.sub('\\[.*?\\]', '', text)\n",
    "    text = re.sub(\"\\\\W\",\" \",text) \n",
    "    text = re.sub('https?://\\S+|www\\.\\S+', '', text)\n",
    "    text = re.sub('<.*?>+', '', text)\n",
    "    text = re.sub('[%s]' % re.escape(string.punctuation), '', text)\n",
    "    text = re.sub('\\n', '', text)\n",
    "    text = re.sub('\\w*\\d\\w*', '', text)    \n",
    "    return text"
   ]
  },
  {
   "cell_type": "markdown",
   "metadata": {},
   "source": [
    "#### Applying the function over all the text news "
   ]
  },
  {
   "cell_type": "code",
   "execution_count": 11,
   "metadata": {},
   "outputs": [
    {
     "data": {
      "text/html": [
       "<div>\n",
       "<style scoped>\n",
       "    .dataframe tbody tr th:only-of-type {\n",
       "        vertical-align: middle;\n",
       "    }\n",
       "\n",
       "    .dataframe tbody tr th {\n",
       "        vertical-align: top;\n",
       "    }\n",
       "\n",
       "    .dataframe thead th {\n",
       "        text-align: right;\n",
       "    }\n",
       "</style>\n",
       "<table border=\"1\" class=\"dataframe\">\n",
       "  <thead>\n",
       "    <tr style=\"text-align: right;\">\n",
       "      <th></th>\n",
       "      <th>screen_name</th>\n",
       "      <th>text</th>\n",
       "      <th>is_retweet</th>\n",
       "      <th>favourites_count</th>\n",
       "      <th>retweet_count</th>\n",
       "      <th>followers_count</th>\n",
       "      <th>friends_count</th>\n",
       "      <th>lang</th>\n",
       "      <th>True</th>\n",
       "    </tr>\n",
       "  </thead>\n",
       "  <tbody>\n",
       "    <tr>\n",
       "      <th>2</th>\n",
       "      <td>rlieving</td>\n",
       "      <td>people are just storing up  they are staying ...</td>\n",
       "      <td>False</td>\n",
       "      <td>604</td>\n",
       "      <td>0</td>\n",
       "      <td>136</td>\n",
       "      <td>457</td>\n",
       "      <td>en</td>\n",
       "      <td>0</td>\n",
       "    </tr>\n",
       "    <tr>\n",
       "      <th>6</th>\n",
       "      <td>AmerMedicalAssn</td>\n",
       "      <td>patriceharrismd spoke with  yahoofinance abo...</td>\n",
       "      <td>False</td>\n",
       "      <td>2894</td>\n",
       "      <td>3</td>\n",
       "      <td>714952</td>\n",
       "      <td>6877</td>\n",
       "      <td>en</td>\n",
       "      <td>1</td>\n",
       "    </tr>\n",
       "    <tr>\n",
       "      <th>7</th>\n",
       "      <td>CGTNOfficial</td>\n",
       "      <td>first medical team aiding  wuhan in fight agai...</td>\n",
       "      <td>False</td>\n",
       "      <td>65</td>\n",
       "      <td>18</td>\n",
       "      <td>14040072</td>\n",
       "      <td>55</td>\n",
       "      <td>en</td>\n",
       "      <td>1</td>\n",
       "    </tr>\n",
       "    <tr>\n",
       "      <th>9</th>\n",
       "      <td>OnTopMag</td>\n",
       "      <td>kathygriffin   realdonaldtrump is  lying  ab...</td>\n",
       "      <td>False</td>\n",
       "      <td>2658</td>\n",
       "      <td>1</td>\n",
       "      <td>5042</td>\n",
       "      <td>5389</td>\n",
       "      <td>en</td>\n",
       "      <td>0</td>\n",
       "    </tr>\n",
       "    <tr>\n",
       "      <th>14</th>\n",
       "      <td>livemint</td>\n",
       "      <td>coronaupdate   johns hopkins university has s...</td>\n",
       "      <td>False</td>\n",
       "      <td>474</td>\n",
       "      <td>2</td>\n",
       "      <td>1862858</td>\n",
       "      <td>127</td>\n",
       "      <td>en</td>\n",
       "      <td>1</td>\n",
       "    </tr>\n",
       "    <tr>\n",
       "      <th>...</th>\n",
       "      <td>...</td>\n",
       "      <td>...</td>\n",
       "      <td>...</td>\n",
       "      <td>...</td>\n",
       "      <td>...</td>\n",
       "      <td>...</td>\n",
       "      <td>...</td>\n",
       "      <td>...</td>\n",
       "      <td>...</td>\n",
       "    </tr>\n",
       "    <tr>\n",
       "      <th>564135</th>\n",
       "      <td>RisatoNicola</td>\n",
       "      <td>trump extends  coronavirus guidelines  braces...</td>\n",
       "      <td>False</td>\n",
       "      <td>3575</td>\n",
       "      <td>1</td>\n",
       "      <td>160</td>\n",
       "      <td>97</td>\n",
       "      <td>en</td>\n",
       "      <td>0</td>\n",
       "    </tr>\n",
       "    <tr>\n",
       "      <th>564136</th>\n",
       "      <td>tmcrypto1</td>\n",
       "      <td>a   nypd member dies of  coronavirus after hun...</td>\n",
       "      <td>False</td>\n",
       "      <td>2526</td>\n",
       "      <td>0</td>\n",
       "      <td>85</td>\n",
       "      <td>123</td>\n",
       "      <td>en</td>\n",
       "      <td>0</td>\n",
       "    </tr>\n",
       "    <tr>\n",
       "      <th>564137</th>\n",
       "      <td>CALcharters</td>\n",
       "      <td>for many students in our state    closures are...</td>\n",
       "      <td>False</td>\n",
       "      <td>4656</td>\n",
       "      <td>2</td>\n",
       "      <td>8104</td>\n",
       "      <td>2798</td>\n",
       "      <td>en</td>\n",
       "      <td>1</td>\n",
       "    </tr>\n",
       "    <tr>\n",
       "      <th>564138</th>\n",
       "      <td>npquarterly</td>\n",
       "      <td>will the  coronavirus pandemic of  come to be ...</td>\n",
       "      <td>False</td>\n",
       "      <td>2916</td>\n",
       "      <td>2</td>\n",
       "      <td>127869</td>\n",
       "      <td>3046</td>\n",
       "      <td>en</td>\n",
       "      <td>0</td>\n",
       "    </tr>\n",
       "    <tr>\n",
       "      <th>564140</th>\n",
       "      <td>MeL8tleigh</td>\n",
       "      <td>is there a way to revoke someone s twitt...</td>\n",
       "      <td>False</td>\n",
       "      <td>35055</td>\n",
       "      <td>0</td>\n",
       "      <td>302</td>\n",
       "      <td>384</td>\n",
       "      <td>en</td>\n",
       "      <td>0</td>\n",
       "    </tr>\n",
       "  </tbody>\n",
       "</table>\n",
       "<p>313036 rows × 9 columns</p>\n",
       "</div>"
      ],
      "text/plain": [
       "            screen_name                                               text  \\\n",
       "2              rlieving   people are just storing up  they are staying ...   \n",
       "6       AmerMedicalAssn    patriceharrismd spoke with  yahoofinance abo...   \n",
       "7          CGTNOfficial  first medical team aiding  wuhan in fight agai...   \n",
       "9              OnTopMag    kathygriffin   realdonaldtrump is  lying  ab...   \n",
       "14             livemint   coronaupdate   johns hopkins university has s...   \n",
       "...                 ...                                                ...   \n",
       "564135     RisatoNicola   trump extends  coronavirus guidelines  braces...   \n",
       "564136        tmcrypto1  a   nypd member dies of  coronavirus after hun...   \n",
       "564137      CALcharters  for many students in our state    closures are...   \n",
       "564138      npquarterly  will the  coronavirus pandemic of  come to be ...   \n",
       "564140       MeL8tleigh        is there a way to revoke someone s twitt...   \n",
       "\n",
       "        is_retweet  favourites_count  retweet_count  followers_count  \\\n",
       "2            False               604              0              136   \n",
       "6            False              2894              3           714952   \n",
       "7            False                65             18         14040072   \n",
       "9            False              2658              1             5042   \n",
       "14           False               474              2          1862858   \n",
       "...            ...               ...            ...              ...   \n",
       "564135       False              3575              1              160   \n",
       "564136       False              2526              0               85   \n",
       "564137       False              4656              2             8104   \n",
       "564138       False              2916              2           127869   \n",
       "564140       False             35055              0              302   \n",
       "\n",
       "        friends_count lang  True  \n",
       "2                 457   en     0  \n",
       "6                6877   en     1  \n",
       "7                  55   en     1  \n",
       "9                5389   en     0  \n",
       "14                127   en     1  \n",
       "...               ...  ...   ...  \n",
       "564135             97   en     0  \n",
       "564136            123   en     0  \n",
       "564137           2798   en     1  \n",
       "564138           3046   en     0  \n",
       "564140            384   en     0  \n",
       "\n",
       "[313036 rows x 9 columns]"
      ]
     },
     "execution_count": 11,
     "metadata": {},
     "output_type": "execute_result"
    }
   ],
   "source": [
    "data[\"text\"] = data[\"text\"].apply(wordopt)\n",
    "data"
   ]
  },
  {
   "cell_type": "markdown",
   "metadata": {},
   "source": [
    "#### Distributing the train-test data "
   ]
  },
  {
   "cell_type": "code",
   "execution_count": 12,
   "metadata": {},
   "outputs": [
    {
     "name": "stdout",
     "output_type": "stream",
     "text": [
      "(93910, 5)\n",
      "(219126, 5)\n",
      "(93910,)\n",
      "(219126,)\n"
     ]
    }
   ],
   "source": [
    "x = data[[\"text\",\"favourites_count\",\"retweet_count\",\"followers_count\",\"friends_count\"]]\n",
    "y = data[True]\n",
    "\n",
    "x_train, x_test, y_train, y_test = train_test_split(x, y, test_size=0.70)\n",
    "print(x_train.shape)\n",
    "print(x_test.shape)\n",
    "print(y_train.shape)\n",
    "print(y_test.shape)"
   ]
  },
  {
   "cell_type": "markdown",
   "metadata": {},
   "source": [
    "#### Seperating the Meta Data#### "
   ]
  },
  {
   "cell_type": "code",
   "execution_count": 13,
   "metadata": {},
   "outputs": [
    {
     "data": {
      "text/html": [
       "<div>\n",
       "<style scoped>\n",
       "    .dataframe tbody tr th:only-of-type {\n",
       "        vertical-align: middle;\n",
       "    }\n",
       "\n",
       "    .dataframe tbody tr th {\n",
       "        vertical-align: top;\n",
       "    }\n",
       "\n",
       "    .dataframe thead th {\n",
       "        text-align: right;\n",
       "    }\n",
       "</style>\n",
       "<table border=\"1\" class=\"dataframe\">\n",
       "  <thead>\n",
       "    <tr style=\"text-align: right;\">\n",
       "      <th></th>\n",
       "      <th>favourites_count</th>\n",
       "      <th>retweet_count</th>\n",
       "      <th>followers_count</th>\n",
       "      <th>friends_count</th>\n",
       "    </tr>\n",
       "  </thead>\n",
       "  <tbody>\n",
       "    <tr>\n",
       "      <th>88217</th>\n",
       "      <td>5289</td>\n",
       "      <td>0</td>\n",
       "      <td>3470</td>\n",
       "      <td>852</td>\n",
       "    </tr>\n",
       "    <tr>\n",
       "      <th>458195</th>\n",
       "      <td>1488</td>\n",
       "      <td>0</td>\n",
       "      <td>158</td>\n",
       "      <td>312</td>\n",
       "    </tr>\n",
       "    <tr>\n",
       "      <th>247929</th>\n",
       "      <td>4404</td>\n",
       "      <td>4</td>\n",
       "      <td>5282887</td>\n",
       "      <td>229</td>\n",
       "    </tr>\n",
       "    <tr>\n",
       "      <th>377203</th>\n",
       "      <td>540</td>\n",
       "      <td>8</td>\n",
       "      <td>1870</td>\n",
       "      <td>207</td>\n",
       "    </tr>\n",
       "    <tr>\n",
       "      <th>516355</th>\n",
       "      <td>1353</td>\n",
       "      <td>0</td>\n",
       "      <td>16</td>\n",
       "      <td>34</td>\n",
       "    </tr>\n",
       "    <tr>\n",
       "      <th>...</th>\n",
       "      <td>...</td>\n",
       "      <td>...</td>\n",
       "      <td>...</td>\n",
       "      <td>...</td>\n",
       "    </tr>\n",
       "    <tr>\n",
       "      <th>518532</th>\n",
       "      <td>589</td>\n",
       "      <td>0</td>\n",
       "      <td>99</td>\n",
       "      <td>225</td>\n",
       "    </tr>\n",
       "    <tr>\n",
       "      <th>208525</th>\n",
       "      <td>6</td>\n",
       "      <td>0</td>\n",
       "      <td>3</td>\n",
       "      <td>50</td>\n",
       "    </tr>\n",
       "    <tr>\n",
       "      <th>49417</th>\n",
       "      <td>2834</td>\n",
       "      <td>0</td>\n",
       "      <td>10</td>\n",
       "      <td>92</td>\n",
       "    </tr>\n",
       "    <tr>\n",
       "      <th>494085</th>\n",
       "      <td>19</td>\n",
       "      <td>0</td>\n",
       "      <td>89</td>\n",
       "      <td>461</td>\n",
       "    </tr>\n",
       "    <tr>\n",
       "      <th>497867</th>\n",
       "      <td>71000</td>\n",
       "      <td>4</td>\n",
       "      <td>11603</td>\n",
       "      <td>12715</td>\n",
       "    </tr>\n",
       "  </tbody>\n",
       "</table>\n",
       "<p>93910 rows × 4 columns</p>\n",
       "</div>"
      ],
      "text/plain": [
       "        favourites_count  retweet_count  followers_count  friends_count\n",
       "88217               5289              0             3470            852\n",
       "458195              1488              0              158            312\n",
       "247929              4404              4          5282887            229\n",
       "377203               540              8             1870            207\n",
       "516355              1353              0               16             34\n",
       "...                  ...            ...              ...            ...\n",
       "518532               589              0               99            225\n",
       "208525                 6              0                3             50\n",
       "49417               2834              0               10             92\n",
       "494085                19              0               89            461\n",
       "497867             71000              4            11603          12715\n",
       "\n",
       "[93910 rows x 4 columns]"
      ]
     },
     "execution_count": 13,
     "metadata": {},
     "output_type": "execute_result"
    }
   ],
   "source": [
    "x_train_meta = x_train\n",
    "x_test_meta = x_test\n",
    "\n",
    "x_train_meta = x_train.drop([\"text\"],axis = 1)\n",
    "x_test_meta = x_test.drop([\"text\"],axis = 1)\n",
    "\n",
    "x_train_meta"
   ]
  },
  {
   "cell_type": "markdown",
   "metadata": {},
   "source": [
    "#### Pre Processing News using Bag of Words "
   ]
  },
  {
   "cell_type": "code",
   "execution_count": 14,
   "metadata": {},
   "outputs": [],
   "source": [
    "from sklearn.feature_extraction.text import CountVectorizer"
   ]
  },
  {
   "cell_type": "code",
   "execution_count": 15,
   "metadata": {},
   "outputs": [],
   "source": [
    "Countvector = CountVectorizer(min_df=10,ngram_range=(1,2))\n",
    "# xb_train = Countvector.fit_transform(x_train['text'].values)\n",
    "# xb_test = Countvector.transform(x_test['text'].values)"
   ]
  },
  {
   "cell_type": "code",
   "execution_count": 16,
   "metadata": {},
   "outputs": [],
   "source": [
    "# xb_train"
   ]
  },
  {
   "cell_type": "markdown",
   "metadata": {},
   "source": [
    "#### Pre Processing using Tfidf Vectorizer"
   ]
  },
  {
   "cell_type": "code",
   "execution_count": 17,
   "metadata": {},
   "outputs": [],
   "source": [
    "from sklearn.feature_extraction.text import TfidfVectorizer"
   ]
  },
  {
   "cell_type": "code",
   "execution_count": 19,
   "metadata": {},
   "outputs": [],
   "source": [
    "vectorization = TfidfVectorizer(stop_words = 'english',max_df = 0.7)\n",
    "xv_train = vectorization.fit_transform(x_train['text'].values)\n",
    "xv_test = vectorization.transform(x_test['text'].values)"
   ]
  },
  {
   "cell_type": "code",
   "execution_count": 20,
   "metadata": {},
   "outputs": [
    {
     "name": "stdout",
     "output_type": "stream",
     "text": [
      "(93910, 118382)\n",
      "(219126, 118382)\n",
      "\n",
      " < M E T A > \n",
      "\n",
      "(93910, 4)\n",
      "(219126, 4)\n"
     ]
    }
   ],
   "source": [
    "print(xv_train.shape)\n",
    "print(xv_test.shape)\n",
    "\n",
    "print('\\n < M E T A > \\n')\n",
    "\n",
    "print(x_train_meta.shape)\n",
    "print(x_test_meta.shape)"
   ]
  },
  {
   "cell_type": "code",
   "execution_count": 21,
   "metadata": {},
   "outputs": [],
   "source": [
    "import scipy\n",
    "dummy_xtrain_meta = scipy.sparse.csr_matrix(x_train_meta.values)\n",
    "dummy_xtest_meta = scipy.sparse.csr_matrix(x_test_meta.values)"
   ]
  },
  {
   "cell_type": "code",
   "execution_count": 22,
   "metadata": {},
   "outputs": [
    {
     "name": "stdout",
     "output_type": "stream",
     "text": [
      "(93910, 118382)\n",
      "(219126, 118382)\n"
     ]
    }
   ],
   "source": [
    "print(xv_train.shape)\n",
    "print(xv_test.shape)"
   ]
  },
  {
   "cell_type": "markdown",
   "metadata": {},
   "source": [
    "#### Combing the Text news with pre-processed data and Meta Data for the final dataset "
   ]
  },
  {
   "cell_type": "code",
   "execution_count": 23,
   "metadata": {},
   "outputs": [
    {
     "name": "stdout",
     "output_type": "stream",
     "text": [
      "(93910, 118386)\n",
      "(219126, 118386)\n"
     ]
    }
   ],
   "source": [
    "from scipy.sparse import hstack\n",
    "final_xv_train = hstack((xv_train, dummy_xtrain_meta))\n",
    "final_xv_test = hstack((xv_test, dummy_xtest_meta))\n",
    "print(final_xv_train.shape)\n",
    "print(final_xv_test.shape)"
   ]
  },
  {
   "cell_type": "markdown",
   "metadata": {},
   "source": [
    "### Applying Model - Logistic Regression"
   ]
  },
  {
   "cell_type": "code",
   "execution_count": 24,
   "metadata": {},
   "outputs": [],
   "source": [
    "from sklearn.linear_model import LogisticRegression"
   ]
  },
  {
   "cell_type": "code",
   "execution_count": 25,
   "metadata": {},
   "outputs": [
    {
     "data": {
      "text/plain": [
       "LogisticRegression(C=1.0, class_weight=None, dual=False, fit_intercept=True,\n",
       "                   intercept_scaling=1, l1_ratio=None, max_iter=100,\n",
       "                   multi_class='auto', n_jobs=None, penalty='l2',\n",
       "                   random_state=None, solver='lbfgs', tol=0.0001, verbose=0,\n",
       "                   warm_start=False)"
      ]
     },
     "execution_count": 25,
     "metadata": {},
     "output_type": "execute_result"
    }
   ],
   "source": [
    "LR = LogisticRegression()\n",
    "LR.fit(final_xv_train,y_train)"
   ]
  },
  {
   "cell_type": "code",
   "execution_count": 26,
   "metadata": {},
   "outputs": [],
   "source": [
    "pred_lr=LR.predict(final_xv_test)"
   ]
  },
  {
   "cell_type": "code",
   "execution_count": 27,
   "metadata": {},
   "outputs": [
    {
     "name": "stdout",
     "output_type": "stream",
     "text": [
      "Logisitic Regression Accuracy \n",
      "\n",
      "0.9311583289979282\n"
     ]
    }
   ],
   "source": [
    "print('Logisitic Regression Accuracy \\n')\n",
    "print(LR.score(final_xv_test, y_test))"
   ]
  },
  {
   "cell_type": "code",
   "execution_count": 28,
   "metadata": {},
   "outputs": [
    {
     "name": "stdout",
     "output_type": "stream",
     "text": [
      "Logisitc Regression Report \n",
      "\n",
      "              precision    recall  f1-score   support\n",
      "\n",
      "           0       0.93      0.99      0.96    197948\n",
      "           1       0.85      0.35      0.49     21178\n",
      "\n",
      "    accuracy                           0.93    219126\n",
      "   macro avg       0.89      0.67      0.73    219126\n",
      "weighted avg       0.93      0.93      0.92    219126\n",
      "\n"
     ]
    }
   ],
   "source": [
    "print('Logisitc Regression Report \\n')\n",
    "print(classification_report(y_test, pred_lr))"
   ]
  },
  {
   "cell_type": "markdown",
   "metadata": {},
   "source": [
    "### Applying Model - Decision Tree Classifier"
   ]
  },
  {
   "cell_type": "code",
   "execution_count": 29,
   "metadata": {},
   "outputs": [],
   "source": [
    "from sklearn.tree import DecisionTreeClassifier"
   ]
  },
  {
   "cell_type": "code",
   "execution_count": 30,
   "metadata": {},
   "outputs": [
    {
     "data": {
      "text/plain": [
       "DecisionTreeClassifier(ccp_alpha=0.0, class_weight=None, criterion='gini',\n",
       "                       max_depth=None, max_features=None, max_leaf_nodes=None,\n",
       "                       min_impurity_decrease=0.0, min_impurity_split=None,\n",
       "                       min_samples_leaf=1, min_samples_split=2,\n",
       "                       min_weight_fraction_leaf=0.0, presort='deprecated',\n",
       "                       random_state=None, splitter='best')"
      ]
     },
     "execution_count": 30,
     "metadata": {},
     "output_type": "execute_result"
    }
   ],
   "source": [
    "DT = DecisionTreeClassifier()\n",
    "DT.fit(final_xv_train, y_train)"
   ]
  },
  {
   "cell_type": "code",
   "execution_count": 31,
   "metadata": {},
   "outputs": [],
   "source": [
    "pred_dt = DT.predict(final_xv_test)"
   ]
  },
  {
   "cell_type": "code",
   "execution_count": 32,
   "metadata": {},
   "outputs": [
    {
     "name": "stdout",
     "output_type": "stream",
     "text": [
      "Decision Tree Accuracy \n",
      "\n",
      "0.9497686262698174\n"
     ]
    }
   ],
   "source": [
    "print('Decision Tree Accuracy \\n')\n",
    "print(DT.score(final_xv_test, y_test))"
   ]
  },
  {
   "cell_type": "code",
   "execution_count": 33,
   "metadata": {},
   "outputs": [
    {
     "name": "stdout",
     "output_type": "stream",
     "text": [
      "Decision Tree Report \n",
      "\n",
      "              precision    recall  f1-score   support\n",
      "\n",
      "           0       0.97      0.97      0.97    197948\n",
      "           1       0.75      0.72      0.74     21178\n",
      "\n",
      "    accuracy                           0.95    219126\n",
      "   macro avg       0.86      0.85      0.85    219126\n",
      "weighted avg       0.95      0.95      0.95    219126\n",
      "\n"
     ]
    }
   ],
   "source": [
    "print('Decision Tree Report \\n')\n",
    "print(classification_report(y_test, pred_dt))"
   ]
  },
  {
   "cell_type": "code",
   "execution_count": 34,
   "metadata": {},
   "outputs": [],
   "source": [
    "import matplotlib.pyplot as plt  \n",
    "from sklearn.datasets import make_classification\n",
    "from sklearn.metrics import plot_confusion_matrix\n",
    "from sklearn.metrics import confusion_matrix\n",
    "from sklearn.model_selection import train_test_split"
   ]
  },
  {
   "cell_type": "code",
   "execution_count": 35,
   "metadata": {},
   "outputs": [
    {
     "data": {
      "text/plain": [
       "array([[192829,   5119],\n",
       "       [  5888,  15290]], dtype=int64)"
      ]
     },
     "execution_count": 35,
     "metadata": {},
     "output_type": "execute_result"
    }
   ],
   "source": [
    "cm = confusion_matrix(y_test,pred_dt)\n",
    "cm"
   ]
  },
  {
   "cell_type": "code",
   "execution_count": 56,
   "metadata": {},
   "outputs": [],
   "source": [
    "##### [true_positive      false_negative]\n",
    "##### [false positive     true_negative] "
   ]
  },
  {
   "cell_type": "code",
   "execution_count": 36,
   "metadata": {},
   "outputs": [],
   "source": [
    "labels = (['FAKE','REAL'])"
   ]
  },
  {
   "cell_type": "code",
   "execution_count": 46,
   "metadata": {},
   "outputs": [
    {
     "data": {
      "image/png": "[encoded data removed]",
      "text/plain": [
       "<Figure size 432x288 with 2 Axes>"
      ]
     },
     "metadata": {
      "needs_background": "light"
     },
     "output_type": "display_data"
    }
   ],
   "source": [
    "import matplotlib.pyplot as plt\n",
    "import numpy as np\n",
    "from mlxtend.plotting import plot_confusion_matrix\n",
    "\n",
    "multiclass = np.array(confusion_matrix(y_test,pred_dt))\n",
    "\n",
    "class_names = ['FAKE', 'REAL']\n",
    "\n",
    "fig, ax = plot_confusion_matrix(conf_mat=multiclass,\n",
    "                                colorbar=True,\n",
    "                                show_absolute=False,\n",
    "                                show_normed=True,\n",
    "                                class_names=class_names)\n",
    "plt.title('Decision tree classifier')\n",
    "plt.show()"
   ]
  },
  {
   "cell_type": "code",
   "execution_count": 45,
   "metadata": {},
   "outputs": [
    {
     "data": {
      "text/plain": [
       "array([[196678,   1270],\n",
       "       [ 13815,   7363]], dtype=int64)"
      ]
     },
     "execution_count": 45,
     "metadata": {},
     "output_type": "execute_result"
    }
   ],
   "source": [
    "cm1 = confusion_matrix(y_test,pred_lr)\n",
    "cm1"
   ]
  },
  {
   "cell_type": "code",
   "execution_count": 47,
   "metadata": {},
   "outputs": [
    {
     "data": {
      "image/png": "[encoded data removed]",
      "text/plain": [
       "<Figure size 432x288 with 2 Axes>"
      ]
     },
     "metadata": {
      "needs_background": "light"
     },
     "output_type": "display_data"
    }
   ],
   "source": [
    "import matplotlib.pyplot as plt\n",
    "import numpy as np\n",
    "from mlxtend.plotting import plot_confusion_matrix\n",
    "\n",
    "multiclass = np.array(confusion_matrix(y_test,pred_lr))\n",
    "\n",
    "class_names = ['FAKE', 'REAL']\n",
    "\n",
    "fig, ax = plot_confusion_matrix(conf_mat=multiclass,\n",
    "                                colorbar=True,\n",
    "                                show_absolute=False,\n",
    "                                show_normed=True,\n",
    "                                class_names=class_names)\n",
    "plt.title('Logistic Regression classifier')\n",
    "plt.show()"
   ]
  },
  {
   "cell_type": "markdown",
   "metadata": {},
   "source": [
    "#### Function to predict is news True / False using the Machine learning Model"
   ]
  },
  {
   "cell_type": "code",
   "execution_count": 48,
   "metadata": {},
   "outputs": [],
   "source": [
    "def test_news(text,favourites_count,retweet_count,followers_count,friends_count,vectorizer,classifier):\n",
    "    testing_news = {\"text\":[news]}\n",
    "    news_test = pd.DataFrame(testing_news)\n",
    "\n",
    "    news_test[\"text\"] = news_test[\"text\"].apply(wordopt)\n",
    "    # new_x_test = [new_def_test[\"text\"],1,120,750,500] \n",
    "    # test = news_test[\"text\"]\n",
    "    \n",
    "    news_test[\"favourites_count\"] = favourites_count\n",
    "    news_test[\"retweet_count\"] = retweet_count\n",
    "    news_test[\"followers_count\"] = followers_count\n",
    "    news_test[\"friends_count\"] = friends_count\n",
    "    \n",
    "    #applying tfidf vectorizer\n",
    "    news_text_data = vectorization.transform(news_test['text'].values)\n",
    "    \n",
    "    import scipy\n",
    "    news_meta_data = news_test.drop(['text'],axis = 1)\n",
    "    dummy_news_meta = scipy.sparse.csr_matrix(news_meta_data.values)\n",
    "    final_news_data = hstack((news_text_data, dummy_news_meta))\n",
    "    \n",
    "    result = classifier.predict(final_news_data)\n",
    "    \n",
    "    if result == 0:\n",
    "        res = 'FALSE'\n",
    "    if result == 1:\n",
    "        res = 'TRUE'\n",
    "    \n",
    "    return res"
   ]
  },
  {
   "cell_type": "markdown",
   "metadata": {},
   "source": [
    "#### Predicting a news using Decision Tree Classifier "
   ]
  },
  {
   "cell_type": "code",
   "execution_count": 49,
   "metadata": {},
   "outputs": [
    {
     "name": "stdout",
     "output_type": "stream",
     "text": [
      "TRUE\n"
     ]
    }
   ],
   "source": [
    "# news = str(input())\n",
    "news = \"#Pentagon activates special protocols to fight #COVID19, can hide info about infected troops â€“ report https://t.co/3AXSnkta3V\"\n",
    "ans = test_news(news,17,13,317134,288,vectorization,DT)\n",
    "print(ans)"
   ]
  },
  {
   "cell_type": "markdown",
   "metadata": {},
   "source": [
    "#### Predicting a news using Logistic Regression Classifier "
   ]
  },
  {
   "cell_type": "code",
   "execution_count": 50,
   "metadata": {},
   "outputs": [
    {
     "name": "stdout",
     "output_type": "stream",
     "text": [
      "TRUE\n"
     ]
    }
   ],
   "source": [
    "# news = str(input())\n",
    "news = \"#Pentagon activates special protocols to fight #COVID19, can hide info about infected troops â€“ report https://t.co/3AXSnkta3V\"\n",
    "ans = test_news(news,17,13,317134,288,vectorization,LR)\n",
    "print(ans)"
   ]
  },
  {
   "cell_type": "code",
   "execution_count": null,
   "metadata": {},
   "outputs": [],
   "source": []
  }
 ],
 "metadata": {
  "kernelspec": {
   "display_name": "Python 3",
   "language": "python",
   "name": "python3"
  },
  "language_info": {
   "codemirror_mode": {
    "name": "ipython",
    "version": 3
   },
   "file_extension": ".py",
   "mimetype": "text/x-python",
   "name": "python",
   "nbconvert_exporter": "python",
   "pygments_lexer": "ipython3",
   "version": "3.7.3"
  }
 },
 "nbformat": 4,
 "nbformat_minor": 4
}
